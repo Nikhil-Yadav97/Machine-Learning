{
 "cells": [
  {
   "cell_type": "code",
   "execution_count": 2,
   "id": "fed833ec-51ca-4028-9e3a-136398488a42",
   "metadata": {},
   "outputs": [],
   "source": [
    "\n",
    "import numpy as np\n",
    "import matplotlib.pyplot as plt\n",
    "from sklearn.datasets import load_diabetes, load_breast_cancer\n",
    "from sklearn.linear_model import LinearRegression, Ridge, Lasso, LogisticRegression\n",
    "from sklearn.model_selection import train_test_split\n",
    "from sklearn.preprocessing import StandardScaler\n",
    "from sklearn.metrics import mean_squared_error, accuracy_score, confusion_matrix, classification_report\n"
   ]
  },
  {
   "cell_type": "code",
   "execution_count": 4,
   "id": "fc29b6c8-627d-40c1-973d-2bc832ae3f64",
   "metadata": {},
   "outputs": [],
   "source": [
    "data = load_breast_cancer()\n",
    "X = data.data\n",
    "y = data.target"
   ]
  },
  {
   "cell_type": "code",
   "execution_count": 6,
   "id": "f42f680a-818f-4f1c-a191-12551bc30212",
   "metadata": {},
   "outputs": [],
   "source": [
    "scaler=StandardScaler()\n",
    "X=scaler.fit_transform(X)"
   ]
  },
  {
   "cell_type": "code",
   "execution_count": 8,
   "id": "3492dd04-4437-4b92-9a5c-b784fd311966",
   "metadata": {},
   "outputs": [],
   "source": [
    "X_train, X_test, y_train, y_test = train_test_split(X, y, test_size=0.2, random_state=42)"
   ]
  },
  {
   "cell_type": "code",
   "execution_count": 10,
   "id": "c14f2617-e659-4c26-9088-c110b70d934f",
   "metadata": {},
   "outputs": [],
   "source": [
    "m, n = X_train.shape\n",
    "w = np.zeros(n)\n",
    "b = 0\n",
    "lr = 0.01\n",
    "epochs = 1000"
   ]
  },
  {
   "cell_type": "code",
   "execution_count": 12,
   "id": "c679d338-e0c5-434b-a6b1-7c054d7596a3",
   "metadata": {},
   "outputs": [
    {
     "name": "stdout",
     "output_type": "stream",
     "text": [
      "Accuracy (from scratch): 99.12%\n"
     ]
    }
   ],
   "source": [
    "def sigmoid(z):\n",
    "    return 1 / (1 + np.exp(-z))\n",
    "\n",
    "# Gradient Descent\n",
    "for i in range(epochs):\n",
    "    z = np.dot(X_train, w) + b\n",
    "    y_pred = sigmoid(z)\n",
    "    # got from derivation from loss fn chain rule\n",
    "    dw = (1/m) * np.dot(X_train.T, (y_pred - y_train))\n",
    "    db = (1/m) * np.sum(y_pred - y_train)\n",
    "    w -= lr * dw\n",
    "    b -= lr * db\n",
    "\n",
    "# Prediction\n",
    "y_pred_test = sigmoid(np.dot(X_test, w) + b)\n",
    "y_pred_class = (y_pred_test >= 0.5).astype(int)\n",
    "acc = accuracy_score(y_test, y_pred_class)\n",
    "print(f\"Accuracy (from scratch): {acc*100:.2f}%\")"
   ]
  },
  {
   "cell_type": "code",
   "execution_count": null,
   "id": "a244b467-1a2b-4e83-9273-bdb610ce5cc7",
   "metadata": {},
   "outputs": [],
   "source": [
    "# using sklearn"
   ]
  },
  {
   "cell_type": "code",
   "execution_count": 14,
   "id": "524537c3-f7f2-4074-af06-bca1c2c0b08e",
   "metadata": {},
   "outputs": [
    {
     "name": "stdout",
     "output_type": "stream",
     "text": [
      "Accuracy (sklearn): 97.37%\n",
      "Confusion Matrix:\n",
      " [[41  2]\n",
      " [ 1 70]]\n",
      "\n",
      "Classification Report:\n",
      "               precision    recall  f1-score   support\n",
      "\n",
      "           0       0.98      0.95      0.96        43\n",
      "           1       0.97      0.99      0.98        71\n",
      "\n",
      "    accuracy                           0.97       114\n",
      "   macro avg       0.97      0.97      0.97       114\n",
      "weighted avg       0.97      0.97      0.97       114\n",
      "\n"
     ]
    }
   ],
   "source": [
    "clf = LogisticRegression(max_iter=1000)\n",
    "clf.fit(X_train, y_train)\n",
    "y_pred_sklearn = clf.predict(X_test)\n",
    "acc_sklearn = accuracy_score(y_test, y_pred_sklearn)\n",
    "print(f\"Accuracy (sklearn): {acc_sklearn*100:.2f}%\")\n",
    "\n",
    "# Confusion Matrix\n",
    "cm = confusion_matrix(y_test, y_pred_sklearn)\n",
    "print(\"Confusion Matrix:\\n\", cm)\n",
    "print(\"\\nClassification Report:\\n\", classification_report(y_test, y_pred_sklearn))"
   ]
  },
  {
   "cell_type": "code",
   "execution_count": null,
   "id": "649a811c-1bb0-4da4-80a9-2358a7d9640c",
   "metadata": {},
   "outputs": [],
   "source": []
  }
 ],
 "metadata": {
  "kernelspec": {
   "display_name": "Python 3 (ipykernel)",
   "language": "python",
   "name": "python3"
  },
  "language_info": {
   "codemirror_mode": {
    "name": "ipython",
    "version": 3
   },
   "file_extension": ".py",
   "mimetype": "text/x-python",
   "name": "python",
   "nbconvert_exporter": "python",
   "pygments_lexer": "ipython3",
   "version": "3.12.4"
  }
 },
 "nbformat": 4,
 "nbformat_minor": 5
}
